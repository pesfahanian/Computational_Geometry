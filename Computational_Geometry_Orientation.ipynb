{
  "nbformat": 4,
  "nbformat_minor": 0,
  "metadata": {
    "colab": {
      "name": "Computational_Geometry:Orientation.ipynb",
      "provenance": [],
      "collapsed_sections": [],
      "authorship_tag": "ABX9TyM0fy+oP9O2xIwPNGHLv8DT",
      "include_colab_link": true
    },
    "kernelspec": {
      "name": "python3",
      "display_name": "Python 3"
    }
  },
  "cells": [
    {
      "cell_type": "markdown",
      "metadata": {
        "id": "view-in-github",
        "colab_type": "text"
      },
      "source": [
        "<a href=\"https://colab.research.google.com/github/pesfahanian/Computational_Geometry/blob/master/Computational_Geometry_Orientation.ipynb\" target=\"_parent\"><img src=\"https://colab.research.google.com/assets/colab-badge.svg\" alt=\"Open In Colab\"/></a>"
      ]
    },
    {
      "cell_type": "code",
      "metadata": {
        "id": "233oGzrptC5i",
        "colab_type": "code",
        "colab": {}
      },
      "source": [
        "# Input:    A list of three points in 2-D space as [p1, p2, p3].\n",
        "# Output:   Determine whether line segment p2p3 has a right (clockwise) or left (counter-clockwise) oriantation \n",
        "#           with respect to line segment p1p2."
      ],
      "execution_count": 0,
      "outputs": []
    },
    {
      "cell_type": "code",
      "metadata": {
        "id": "UYJYVlLPtz8O",
        "colab_type": "code",
        "colab": {}
      },
      "source": [
        "import numpy as np\n",
        "import matplotlib.pyplot as plt\n",
        "%matplotlib inline"
      ],
      "execution_count": 0,
      "outputs": []
    },
    {
      "cell_type": "code",
      "metadata": {
        "id": "-Sd4CbFDt4mx",
        "colab_type": "code",
        "colab": {}
      },
      "source": [
        "def orientation(points):\n",
        "    data = np.array(points)\n",
        "    x, y = data.T\n",
        "    plt.scatter(x, y)\n",
        "    plt.show()\n",
        "    o = (data[1][1] - data[0][1])*(data[2][0] - data[1][0]) - (data[2][1] - data[1][1])*(data[1][0] - data[0][0])\n",
        "    if(o > 0):\n",
        "        return \"Right turn (Clockwise)\"\n",
        "    if(o < 0):\n",
        "        return \"Left turn (Counter_Clockwise)\"\n",
        "    if(o == 0):\n",
        "        return \"Line\""
      ],
      "execution_count": 0,
      "outputs": []
    },
    {
      "cell_type": "code",
      "metadata": {
        "id": "V5wrMbZJubJ6",
        "colab_type": "code",
        "outputId": "f90fb727-50b3-40bb-8e69-8ff999c88066",
        "colab": {
          "base_uri": "https://localhost:8080/",
          "height": 282
        }
      },
      "source": [
        "input = [(0,3), (3,0), (2,2)]\n",
        "orientation(input)"
      ],
      "execution_count": 0,
      "outputs": [
        {
          "output_type": "display_data",
          "data": {
            "image/png": "[encoded data removed]",
            "text/plain": [
              "<Figure size 432x288 with 1 Axes>"
            ]
          },
          "metadata": {
            "tags": [],
            "needs_background": "light"
          }
        },
        {
          "output_type": "execute_result",
          "data": {
            "text/plain": [
              "'Left turn (Counter_Clockwise)'"
            ]
          },
          "metadata": {
            "tags": []
          },
          "execution_count": 21
        }
      ]
    },
    {
      "cell_type": "code",
      "metadata": {
        "id": "gGPLYBnsunwq",
        "colab_type": "code",
        "colab": {}
      },
      "source": [
        ""
      ],
      "execution_count": 0,
      "outputs": []
    }
  ]
}