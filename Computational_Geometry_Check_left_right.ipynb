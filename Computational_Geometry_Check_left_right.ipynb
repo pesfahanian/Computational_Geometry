{
  "nbformat": 4,
  "nbformat_minor": 0,
  "metadata": {
    "colab": {
      "name": "Computational_Geometry:Check_left_right.ipynb",
      "provenance": [],
      "collapsed_sections": [],
      "authorship_tag": "ABX9TyPFW3bD6gR0TSJkteT7Wxt9",
      "include_colab_link": true
    },
    "kernelspec": {
      "name": "python3",
      "display_name": "Python 3"
    }
  },
  "cells": [
    {
      "cell_type": "markdown",
      "metadata": {
        "id": "view-in-github",
        "colab_type": "text"
      },
      "source": [
        "<a href=\"https://colab.research.google.com/github/pesfahanian/Computational_Geometry/blob/master/Computational_Geometry_Check_left_right.ipynb\" target=\"_parent\"><img src=\"https://colab.research.google.com/assets/colab-badge.svg\" alt=\"Open In Colab\"/></a>"
      ]
    },
    {
      "cell_type": "code",
      "metadata": {
        "id": "gYmKgckHxWzA",
        "colab_type": "code",
        "colab": {}
      },
      "source": [
        "# Input:    A tuple including a list of points that form a line ([p1, p2]) and a third point p3.\n",
        "# Output:   Check if p3 is on the left/right of the line segment p1p2."
      ],
      "execution_count": 0,
      "outputs": []
    },
    {
      "cell_type": "code",
      "metadata": {
        "id": "mv71N8lmxx94",
        "colab_type": "code",
        "colab": {}
      },
      "source": [
        "import numpy as np\n",
        "import matplotlib.pyplot as plt\n",
        "%matplotlib inline"
      ],
      "execution_count": 0,
      "outputs": []
    },
    {
      "cell_type": "code",
      "metadata": {
        "id": "H2Mm0h7xxz0k",
        "colab_type": "code",
        "colab": {}
      },
      "source": [
        "def check_left_right(points):\n",
        "    data = np.array(points[0])\n",
        "    point = np.array(points[1])\n",
        "    # print(data)\n",
        "    # print(point)\n",
        "    x, y = data.T\n",
        "    plt.scatter(x, y)\n",
        "    plt.scatter(point[0], point[1])\n",
        "    plt.show()\n",
        "    o = (data[1][1]-data[0][1])*point[0] + (data[0][0]-data[1][0])*point[1] + (data[0][1]*data[1][0]) - (data[0][0]*data[1][1])\n",
        "    if(o < 0):\n",
        "        return \"Left\"\n",
        "    if(o > 0):\n",
        "        return \"Right\"\n",
        "    if(o == 0):\n",
        "        return \"line\""
      ],
      "execution_count": 0,
      "outputs": []
    },
    {
      "cell_type": "code",
      "metadata": {
        "id": "bP1qJgWayYEi",
        "colab_type": "code",
        "outputId": "02e4fc6f-0a6d-4be8-bd23-c8aa60e5081d",
        "colab": {
          "base_uri": "https://localhost:8080/",
          "height": 282
        }
      },
      "source": [
        "check_left_right(([(1, 1), (2, 2)], (3, 3)))"
      ],
      "execution_count": 0,
      "outputs": [
        {
          "output_type": "display_data",
          "data": {
            "image/png": "[encoded data removed]",
            "text/plain": [
              "<Figure size 432x288 with 1 Axes>"
            ]
          },
          "metadata": {
            "tags": [],
            "needs_background": "light"
          }
        },
        {
          "output_type": "execute_result",
          "data": {
            "text/plain": [
              "'line'"
            ]
          },
          "metadata": {
            "tags": []
          },
          "execution_count": 7
        }
      ]
    },
    {
      "cell_type": "code",
      "metadata": {
        "id": "fLcNN5vKyu7A",
        "colab_type": "code",
        "colab": {}
      },
      "source": [
        ""
      ],
      "execution_count": 0,
      "outputs": []
    }
  ]
}