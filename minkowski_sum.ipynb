{
  "nbformat": 4,
  "nbformat_minor": 0,
  "metadata": {
    "colab": {
      "name": "minkowski_sum.ipynb",
      "provenance": [],
      "collapsed_sections": [],
      "authorship_tag": "ABX9TyOJti0ks+696Cf+1xfLsWQU",
      "include_colab_link": true
    },
    "kernelspec": {
      "name": "python3",
      "display_name": "Python 3"
    }
  },
  "cells": [
    {
      "cell_type": "markdown",
      "metadata": {
        "id": "view-in-github",
        "colab_type": "text"
      },
      "source": [
        "<a href=\"https://colab.research.google.com/github/pesfahanian/Computational_Geometry/blob/master/minkowski_sum.ipynb\" target=\"_parent\"><img src=\"https://colab.research.google.com/assets/colab-badge.svg\" alt=\"Open In Colab\"/></a>"
      ]
    },
    {
      "cell_type": "code",
      "metadata": {
        "id": "eHRGkPHj6KNf",
        "colab_type": "code",
        "colab": {}
      },
      "source": [
        "import numpy as np\n",
        "import matplotlib.pyplot as plt\n",
        "%matplotlib inline"
      ],
      "execution_count": null,
      "outputs": []
    },
    {
      "cell_type": "code",
      "metadata": {
        "id": "ppjn7oVT6ZBs",
        "colab_type": "code",
        "colab": {}
      },
      "source": [
        "def minkowski_sum(s1, s2):\n",
        "    s = []\n",
        "    for p in s1:\n",
        "        for q in s2:\n",
        "            s.append((p[0]+q[0], p[1]+q[1]))\n",
        "    return s"
      ],
      "execution_count": null,
      "outputs": []
    },
    {
      "cell_type": "code",
      "metadata": {
        "id": "z0qdbDfd8T9-",
        "colab_type": "code",
        "colab": {}
      },
      "source": [
        "def minkowski_negation(s1):\n",
        "    s = []\n",
        "    for p in s1:\n",
        "        s.append((-p[0], -p[1]))\n",
        "    return s"
      ],
      "execution_count": null,
      "outputs": []
    },
    {
      "cell_type": "code",
      "metadata": {
        "id": "puPgION58s4q",
        "colab_type": "code",
        "colab": {}
      },
      "source": [
        "def CP(r, o):\n",
        "    cp = minkowski_sum(minkowski_negation(r), o)\n",
        "    return cp"
      ],
      "execution_count": null,
      "outputs": []
    },
    {
      "cell_type": "code",
      "metadata": {
        "id": "RVC_wuFt63A1",
        "colab_type": "code",
        "colab": {
          "base_uri": "https://localhost:8080/",
          "height": 265
        },
        "outputId": "72264d3e-fe75-4ec8-e453-48115177e64e"
      },
      "source": [
        "robot = [(-1, -1), (-1, 1), (1, 1), (1, -1)]\n",
        "robot.append(robot[0])\n",
        "\n",
        "obstecle = [(2, 3), (3, 5), (5, 5), (6, 3)]\n",
        "obstecle.append(obstecle[0])\n",
        "\n",
        "collision_plan = CP(robot, obstecle)\n",
        "collision_plan.append(collision_plan[0])\n",
        "\n",
        "x1, y1 = np.array(robot).T\n",
        "x2, y2 = np.array(obstecle).T\n",
        "x3, y3 = np.array(collision_plan).T\n",
        "\n",
        "for i in range(0, len(x1), 1):\n",
        "    plt.plot(x1[i:i+2], y1[i:i+2], 'ro-')\n",
        "for j in range(0, len(x2), 1):\n",
        "    plt.plot(x2[j:j+2], y2[j:j+2], 'bo-')\n",
        "for k in range(0, len(x3), 1):\n",
        "    plt.plot(x3[k:k+2], y3[k:k+2], 'go-')\n",
        "\n",
        "plt.show()"
      ],
      "execution_count": null,
      "outputs": [
        {
          "output_type": "display_data",
          "data": {
            "image/png": "[encoded data removed]",
            "text/plain": [
              "<Figure size 432x288 with 1 Axes>"
            ]
          },
          "metadata": {
            "tags": [],
            "needs_background": "light"
          }
        }
      ]
    },
    {
      "cell_type": "code",
      "metadata": {
        "id": "ravvI-wv7MUo",
        "colab_type": "code",
        "colab": {}
      },
      "source": [
        ""
      ],
      "execution_count": null,
      "outputs": []
    }
  ]
}