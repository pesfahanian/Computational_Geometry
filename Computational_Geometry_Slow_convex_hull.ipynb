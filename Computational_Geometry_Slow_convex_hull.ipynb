{
  "nbformat": 4,
  "nbformat_minor": 0,
  "metadata": {
    "colab": {
      "name": "Computational_Geometry:Slow_convex_hull.ipynb",
      "provenance": [],
      "collapsed_sections": [],
      "authorship_tag": "ABX9TyOzAMEIeawFaNhRXUXJRBaX",
      "include_colab_link": true
    },
    "kernelspec": {
      "name": "python3",
      "display_name": "Python 3"
    }
  },
  "cells": [
    {
      "cell_type": "markdown",
      "metadata": {
        "id": "view-in-github",
        "colab_type": "text"
      },
      "source": [
        "<a href=\"https://colab.research.google.com/github/pesfahanian/Computational_Geometry/blob/master/Computational_Geometry_Slow_convex_hull.ipynb\" target=\"_parent\"><img src=\"https://colab.research.google.com/assets/colab-badge.svg\" alt=\"Open In Colab\"/></a>"
      ]
    },
    {
      "cell_type": "code",
      "metadata": {
        "id": "8J7b0GuSHc2_",
        "colab_type": "code",
        "colab": {}
      },
      "source": [
        "# Input:    A list of n point L = [p1, p2, ... , pn].\n",
        "# Output:   A sublist of L as the convex hull CH(L) of L."
      ],
      "execution_count": 0,
      "outputs": []
    },
    {
      "cell_type": "code",
      "metadata": {
        "id": "JClWkUhGH6mo",
        "colab_type": "code",
        "colab": {}
      },
      "source": [
        "import numpy as np\n",
        "import matplotlib.pyplot as plt\n",
        "%matplotlib inline"
      ],
      "execution_count": 0,
      "outputs": []
    },
    {
      "cell_type": "code",
      "metadata": {
        "id": "cg3Vx6OwRo1Q",
        "colab_type": "code",
        "colab": {}
      },
      "source": [
        "def orientation(points):\n",
        "    data = np.array(points)\n",
        "    x, y = data.T\n",
        "    o = (data[1][1] - data[0][1])*(data[2][0] - data[1][0]) - (data[2][1] - data[1][1])*(data[1][0] - data[0][0])\n",
        "    if(o > 0):\n",
        "        return \"Right turn (Clockwise)\"\n",
        "    if(o < 0):\n",
        "        return \"Left turn (Counter_Clockwise)\"\n",
        "    if(o == 0):\n",
        "        return \"Line\""
      ],
      "execution_count": 0,
      "outputs": []
    },
    {
      "cell_type": "code",
      "metadata": {
        "id": "Zx31YVe9H78X",
        "colab_type": "code",
        "colab": {}
      },
      "source": [
        "def slow_convex_hull(points):\n",
        "    data = np.array(points)\n",
        "    # x, y = data.T\n",
        "    # plt.scatter(x, y)\n",
        "    # plt.show()\n",
        "    points.sort()\n",
        "    # print(points)\n",
        "    # print('////////////////////////////////')\n",
        "    current_point = points[0]\n",
        "    start = current_point\n",
        "    # counter = 1\n",
        "    CH = []\n",
        "    while(True):\n",
        "        # print('points', points)\n",
        "        # print('current_point', current_point)\n",
        "        # print(points.index(current_point))\n",
        "        for i in range(0, len(points)):\n",
        "            check = True\n",
        "            if(i == points.index(current_point)):\n",
        "                continue\n",
        "            # print('next?: ', points[i])\n",
        "            for j  in range(0, len(points)):\n",
        "                if((j == points.index(current_point)) or (j == i)):\n",
        "                    continue\n",
        "                # print('remaining: ', points[j])\n",
        "                # print(current_point, points[i], points[j])\n",
        "                # print(orientation([current_point, points[i], points[j]]))\n",
        "                if(orientation([current_point, points[i], points[j]])==\"Left turn (Counter_Clockwise)\"):\n",
        "                    check = False\n",
        "                    # print('Break')\n",
        "                    break\n",
        "            if(check != False):\n",
        "                # print('check was true')\n",
        "                # tmp = current_point\n",
        "                current_point = points[i]\n",
        "                # points.pop(points.index(tmp))\n",
        "                # print('current_point', current_point)\n",
        "                CH.append(current_point)\n",
        "                # print(CH)\n",
        "                break\n",
        "            # print('--------')\n",
        "        # print(points)\n",
        "        # print('**************************')\n",
        "        # counter = counter + 1\n",
        "        if(current_point == start):\n",
        "            break\n",
        "    return CH"
      ],
      "execution_count": 0,
      "outputs": []
    },
    {
      "cell_type": "code",
      "metadata": {
        "id": "eJatpE6uIc14",
        "colab_type": "code",
        "outputId": "bfb6d1df-abae-4be7-84f8-56817ced42f5",
        "colab": {
          "base_uri": "https://localhost:8080/",
          "height": 282
        }
      },
      "source": [
        "# L = [(0, 3), (2, 2), (1, 1), (2, 1), (3, 0), (0, 0), (3, 3)]\n",
        "L = [(-7, 8), (-4, 6), (2, 6), (6, 4), (8, 6), (7, -2), (4, -6), (8, -7), (0, 0), (3, -2), (6, -10), (0, -6), (-9, -5), (-8, -2), (-8, 0), (-10, 3), (-2, 2), (-10, 4)]\n",
        "CH = slow_convex_hull(L)\n",
        "print('Convex hull:', CH)\n",
        "CH.append(CH[0])\n",
        "a, b = np.array(L).T\n",
        "plt.scatter(a, b)\n",
        "x, y = np.array(CH).T\n",
        "for i in range(0, len(x), 1):\n",
        "    plt.plot(x[i:i+2], y[i:i+2], 'ro-')\n",
        "plt.show()"
      ],
      "execution_count": 0,
      "outputs": [
        {
          "output_type": "stream",
          "text": [
            "Convex hull: [(-10, 4), (-7, 8), (8, 6), (8, -7), (6, -10), (-9, -5), (-10, 3)]\n"
          ],
          "name": "stdout"
        },
        {
          "output_type": "display_data",
          "data": {
            "image/png": "[encoded data removed]",
            "text/plain": [
              "<Figure size 432x288 with 1 Axes>"
            ]
          },
          "metadata": {
            "tags": [],
            "needs_background": "light"
          }
        }
      ]
    },
    {
      "cell_type": "code",
      "metadata": {
        "id": "ZCdpWAqIn58-",
        "colab_type": "code",
        "colab": {}
      },
      "source": [
        ""
      ],
      "execution_count": 0,
      "outputs": []
    }
  ]
}