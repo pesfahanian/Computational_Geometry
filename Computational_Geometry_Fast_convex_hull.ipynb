{
  "nbformat": 4,
  "nbformat_minor": 0,
  "metadata": {
    "colab": {
      "name": "Computational_Geometry:Fast_convex_hull.ipynb",
      "provenance": [],
      "collapsed_sections": [],
      "authorship_tag": "ABX9TyMQG8sJAPkUHz6Zl+DrvJiX",
      "include_colab_link": true
    },
    "kernelspec": {
      "name": "python3",
      "display_name": "Python 3"
    }
  },
  "cells": [
    {
      "cell_type": "markdown",
      "metadata": {
        "id": "view-in-github",
        "colab_type": "text"
      },
      "source": [
        "<a href=\"https://colab.research.google.com/github/pesfahanian/Computational_Geometry/blob/master/Computational_Geometry_Fast_convex_hull.ipynb\" target=\"_parent\"><img src=\"https://colab.research.google.com/assets/colab-badge.svg\" alt=\"Open In Colab\"/></a>"
      ]
    },
    {
      "cell_type": "code",
      "metadata": {
        "id": "Frf7ftM0FVu_",
        "colab_type": "code",
        "colab": {}
      },
      "source": [
        "# Input:    A list of n point L = [p1, p2, ... , pn].\n",
        "# Output:   A sublist of L as the convex hull CH(L) of L."
      ],
      "execution_count": 0,
      "outputs": []
    },
    {
      "cell_type": "code",
      "metadata": {
        "id": "IwBlUoBhFm33",
        "colab_type": "code",
        "colab": {}
      },
      "source": [
        "import numpy as np\n",
        "import matplotlib.pyplot as plt\n",
        "%matplotlib inline"
      ],
      "execution_count": 0,
      "outputs": []
    },
    {
      "cell_type": "code",
      "metadata": {
        "id": "lACARTFJFpht",
        "colab_type": "code",
        "colab": {}
      },
      "source": [
        "def orientation(points):\n",
        "    data = np.array(points)\n",
        "    x, y = data.T\n",
        "    o = (data[1][1] - data[0][1])*(data[2][0] - data[1][0]) - (data[2][1] - data[1][1])*(data[1][0] - data[0][0])\n",
        "    if(o > 0):\n",
        "        return \"Right turn (Clockwise)\"\n",
        "    if(o < 0):\n",
        "        return \"Left turn (Counter_Clockwise)\"\n",
        "    if(o == 0):\n",
        "        return \"Line\""
      ],
      "execution_count": 0,
      "outputs": []
    },
    {
      "cell_type": "code",
      "metadata": {
        "id": "nKOl0r42Fruy",
        "colab_type": "code",
        "colab": {}
      },
      "source": [
        "def fast_convex_hull(points):\n",
        "    points.sort()\n",
        "    print(points)\n",
        "    stack_upper = []\n",
        "    stack_upper.append(points[0])\n",
        "    stack_upper.append(points[1])\n",
        "    # print(stack)\n",
        "    for i in range(2, len(points)):\n",
        "        stack_upper.append(points[i])\n",
        "        # print('investigating:', stack_upper[-3], stack_upper[-2], stack_upper[-1])\n",
        "        # o1 = orientation([stack_upper[-3], stack_upper[-2], stack_upper[-1]])\n",
        "        # print('orientation:', o1)\n",
        "        while((len(stack_upper)>2) and (orientation([stack_upper[-3], stack_upper[-2], stack_upper[-1]]) != \"Right turn (Clockwise)\")):\n",
        "            # print('deleting', stack_upper[-2])\n",
        "            del stack_upper[-2]\n",
        "        # print('------------')\n",
        "    # print('stack upper:', stack_upper)\n",
        "    stack_lower = []\n",
        "    stack_lower.append(points[-1])\n",
        "    stack_lower.append(points[-2])\n",
        "    for j in range(len(points)-3, 0, -1):\n",
        "        stack_lower.append(points[j])\n",
        "        # print('investigating:', stack_upper[-3], stack_upper[-2], stack_upper[-1])\n",
        "        # o2 = orientation([stack_lower[-3], stack_lower[-2], stack_lower[-1]])\n",
        "        # print('orientation:', o2)\n",
        "        while((len(stack_lower)>2) and (orientation([stack_lower[-3], stack_lower[-2], stack_lower[-1]]) != \"Right turn (Clockwise)\")):\n",
        "            del stack_lower[-2]\n",
        "    # print('stack lower:', stack_lower)\n",
        "    # del stack_upper[0]\n",
        "    del stack_upper[-1]\n",
        "    stack = stack_upper + stack_lower\n",
        "    return stack"
      ],
      "execution_count": 0,
      "outputs": []
    },
    {
      "cell_type": "code",
      "metadata": {
        "id": "fmGSMeimF9um",
        "colab_type": "code",
        "outputId": "f6187931-1b04-4e76-f060-4ba27bb67cf7",
        "colab": {
          "base_uri": "https://localhost:8080/",
          "height": 298
        }
      },
      "source": [
        "L = [(-7, 8), (-4, 6), (2, 6), (6, 4), (8, 6), (7, -2), (4, -6), (8, -7), (0, 0), (3, -2), (6, -10), (0, -6), (-9, -5), (-8, -2), (-8, 0), (-10, 3), (-2, 2), (-10, 4)]\n",
        "# L = [(-7, 8), (-4, 6), (2, 6), (6, 4), (8, 6), (7, -2), (4, -6), (8, -7), (0, 0), (3, -2), (6, -10)]\n",
        "# L = [(0, 3), (2, 2), (1, 1), (2, 1), (3, 0), (0, 0), (3, 3)]\n",
        "CH = fast_convex_hull(L)\n",
        "print('Convex hull:', CH)\n",
        "CH.append(CH[0])\n",
        "a, b = np.array(L).T\n",
        "plt.scatter(a, b)\n",
        "x, y = np.array(CH).T\n",
        "for i in range(0, len(x), 1):\n",
        "    plt.plot(x[i:i+2], y[i:i+2], 'ro-')\n",
        "plt.show()"
      ],
      "execution_count": 0,
      "outputs": [
        {
          "output_type": "stream",
          "text": [
            "[(-10, 3), (-10, 4), (-9, -5), (-8, -2), (-8, 0), (-7, 8), (-4, 6), (-2, 2), (0, -6), (0, 0), (2, 6), (3, -2), (4, -6), (6, -10), (6, 4), (7, -2), (8, -7), (8, 6)]\n",
            "Convex hull: [(-10, 3), (-10, 4), (-7, 8), (8, 6), (8, -7), (6, -10), (-9, -5), (-10, 4)]\n"
          ],
          "name": "stdout"
        },
        {
          "output_type": "display_data",
          "data": {
            "image/png": "[encoded data removed]",
            "text/plain": [
              "<Figure size 432x288 with 1 Axes>"
            ]
          },
          "metadata": {
            "tags": [],
            "needs_background": "light"
          }
        }
      ]
    },
    {
      "cell_type": "code",
      "metadata": {
        "id": "05had55EHGO2",
        "colab_type": "code",
        "colab": {}
      },
      "source": [
        " "
      ],
      "execution_count": 0,
      "outputs": []
    }
  ]
}